{
 "cells": [
  {
   "cell_type": "code",
   "execution_count": 11,
   "metadata": {
    "collapsed": false
   },
   "outputs": [],
   "source": [
    "import pandas as pd\n",
    "import numpy as np\n",
    "import matplotlib.pyplot as plt\n",
    "koc=pd.read_csv('./KOC.csv')\n",
    "koc.head()\n",
    "%matplotlib inline"
   ]
  },
  {
   "cell_type": "code",
   "execution_count": 4,
   "metadata": {
    "collapsed": false
   },
   "outputs": [
    {
     "data": {
      "text/html": [
       "<div>\n",
       "<table border=\"1\" class=\"dataframe\">\n",
       "  <thead>\n",
       "    <tr style=\"text-align: right;\">\n",
       "      <th></th>\n",
       "      <th>Unnamed: 0</th>\n",
       "      <th>2hr</th>\n",
       "      <th>2hr.1</th>\n",
       "      <th>2hr.2</th>\n",
       "      <th>3hr</th>\n",
       "      <th>3hr.1</th>\n",
       "      <th>3hr.2</th>\n",
       "      <th>4hr</th>\n",
       "      <th>4hr.1</th>\n",
       "      <th>4hr.2</th>\n",
       "      <th>6hr</th>\n",
       "      <th>6hr.1</th>\n",
       "      <th>6hr.2</th>\n",
       "      <th>10hr</th>\n",
       "      <th>10hr.1</th>\n",
       "      <th>10hr.2</th>\n",
       "      <th>24hr</th>\n",
       "      <th>24hr.1</th>\n",
       "      <th>24hr.2</th>\n",
       "    </tr>\n",
       "  </thead>\n",
       "  <tbody>\n",
       "    <tr>\n",
       "      <th>0</th>\n",
       "      <td>Unpaired</td>\n",
       "      <td>55.575</td>\n",
       "      <td>12.09272</td>\n",
       "      <td>4</td>\n",
       "      <td>50.5675</td>\n",
       "      <td>12.349320</td>\n",
       "      <td>4</td>\n",
       "      <td>41.0425</td>\n",
       "      <td>10.408170</td>\n",
       "      <td>4</td>\n",
       "      <td>38.655</td>\n",
       "      <td>13.657160</td>\n",
       "      <td>4</td>\n",
       "      <td>45.1200</td>\n",
       "      <td>13.999060</td>\n",
       "      <td>4</td>\n",
       "      <td>57.1025</td>\n",
       "      <td>7.977349</td>\n",
       "      <td>4</td>\n",
       "    </tr>\n",
       "    <tr>\n",
       "      <th>1</th>\n",
       "      <td>Pair formed</td>\n",
       "      <td>44.425</td>\n",
       "      <td>12.09272</td>\n",
       "      <td>4</td>\n",
       "      <td>19.5575</td>\n",
       "      <td>4.155014</td>\n",
       "      <td>4</td>\n",
       "      <td>13.2100</td>\n",
       "      <td>8.809523</td>\n",
       "      <td>4</td>\n",
       "      <td>7.840</td>\n",
       "      <td>5.254769</td>\n",
       "      <td>4</td>\n",
       "      <td>1.5725</td>\n",
       "      <td>1.023030</td>\n",
       "      <td>4</td>\n",
       "      <td>1.2650</td>\n",
       "      <td>0.663746</td>\n",
       "      <td>4</td>\n",
       "    </tr>\n",
       "    <tr>\n",
       "      <th>2</th>\n",
       "      <td>Crescent</td>\n",
       "      <td>0.000</td>\n",
       "      <td>0.00000</td>\n",
       "      <td>4</td>\n",
       "      <td>29.5775</td>\n",
       "      <td>11.783030</td>\n",
       "      <td>4</td>\n",
       "      <td>30.3900</td>\n",
       "      <td>4.016188</td>\n",
       "      <td>4</td>\n",
       "      <td>14.120</td>\n",
       "      <td>8.105813</td>\n",
       "      <td>4</td>\n",
       "      <td>5.8750</td>\n",
       "      <td>5.546677</td>\n",
       "      <td>4</td>\n",
       "      <td>2.0000</td>\n",
       "      <td>1.414214</td>\n",
       "      <td>4</td>\n",
       "    </tr>\n",
       "    <tr>\n",
       "      <th>3</th>\n",
       "      <td>Meiosis</td>\n",
       "      <td>0.000</td>\n",
       "      <td>0.00000</td>\n",
       "      <td>4</td>\n",
       "      <td>0.2725</td>\n",
       "      <td>0.272500</td>\n",
       "      <td>4</td>\n",
       "      <td>15.3625</td>\n",
       "      <td>9.807895</td>\n",
       "      <td>4</td>\n",
       "      <td>8.850</td>\n",
       "      <td>5.146737</td>\n",
       "      <td>4</td>\n",
       "      <td>9.8075</td>\n",
       "      <td>6.302636</td>\n",
       "      <td>4</td>\n",
       "      <td>0.7750</td>\n",
       "      <td>0.775000</td>\n",
       "      <td>4</td>\n",
       "    </tr>\n",
       "    <tr>\n",
       "      <th>4</th>\n",
       "      <td>Nuclear exchange</td>\n",
       "      <td>0.000</td>\n",
       "      <td>0.00000</td>\n",
       "      <td>4</td>\n",
       "      <td>0.0000</td>\n",
       "      <td>0.000000</td>\n",
       "      <td>4</td>\n",
       "      <td>0.0000</td>\n",
       "      <td>0.000000</td>\n",
       "      <td>4</td>\n",
       "      <td>30.560</td>\n",
       "      <td>17.699300</td>\n",
       "      <td>4</td>\n",
       "      <td>12.5225</td>\n",
       "      <td>6.577551</td>\n",
       "      <td>4</td>\n",
       "      <td>0.3750</td>\n",
       "      <td>0.375000</td>\n",
       "      <td>4</td>\n",
       "    </tr>\n",
       "  </tbody>\n",
       "</table>\n",
       "</div>"
      ],
      "text/plain": [
       "         Unnamed: 0     2hr     2hr.1  2hr.2      3hr      3hr.1  3hr.2  \\\n",
       "0          Unpaired  55.575  12.09272      4  50.5675  12.349320      4   \n",
       "1       Pair formed  44.425  12.09272      4  19.5575   4.155014      4   \n",
       "2          Crescent   0.000   0.00000      4  29.5775  11.783030      4   \n",
       "3           Meiosis   0.000   0.00000      4   0.2725   0.272500      4   \n",
       "4  Nuclear exchange   0.000   0.00000      4   0.0000   0.000000      4   \n",
       "\n",
       "       4hr      4hr.1  4hr.2     6hr      6hr.1  6hr.2     10hr     10hr.1  \\\n",
       "0  41.0425  10.408170      4  38.655  13.657160      4  45.1200  13.999060   \n",
       "1  13.2100   8.809523      4   7.840   5.254769      4   1.5725   1.023030   \n",
       "2  30.3900   4.016188      4  14.120   8.105813      4   5.8750   5.546677   \n",
       "3  15.3625   9.807895      4   8.850   5.146737      4   9.8075   6.302636   \n",
       "4   0.0000   0.000000      4  30.560  17.699300      4  12.5225   6.577551   \n",
       "\n",
       "   10hr.2     24hr    24hr.1  24hr.2  \n",
       "0       4  57.1025  7.977349       4  \n",
       "1       4   1.2650  0.663746       4  \n",
       "2       4   2.0000  1.414214       4  \n",
       "3       4   0.7750  0.775000       4  \n",
       "4       4   0.3750  0.375000       4  "
      ]
     },
     "execution_count": 4,
     "metadata": {},
     "output_type": "execute_result"
    }
   ],
   "source": [
    "wt=pd.read_csv('./WT.csv')\n",
    "wt.head()"
   ]
  },
  {
   "cell_type": "code",
   "execution_count": 12,
   "metadata": {
    "collapsed": false
   },
   "outputs": [
    {
     "data": {
      "text/plain": [
       "<matplotlib.legend.Legend at 0x7fc87ac893d0>"
      ]
     },
     "execution_count": 12,
     "metadata": {},
     "output_type": "execute_result"
    },
    {
     "name": "stderr",
     "output_type": "stream",
     "text": [
      "/home/ruoyu/anaconda/lib/python2.7/site-packages/matplotlib/collections.py:590: FutureWarning: elementwise comparison failed; returning scalar instead, but in the future will perform elementwise comparison\n",
      "  if self._edgecolors == str('face'):\n"
     ]
    },
    {
     "data": {
      "image/png": "[encoded data removed]",
      "text/plain": [
       "<matplotlib.figure.Figure at 0x7fc88463c810>"
      ]
     },
     "metadata": {},
     "output_type": "display_data"
    }
   ],
   "source": [
    "n_groups=6\n",
    "fig,ax=plt.subplots()\n",
    "index=np.arange(n_groups)\n",
    "bar_width=0.15\n",
    "opacity=0.4\n",
    "error_config={'ecolor':'0.3'}\n",
    "c=['#e60000',\n",
    "'#ff8000',\n",
    "'#ffff00',\n",
    "'#00e666',\n",
    "'#1ab3ff',\n",
    "'#001acc',\n",
    "'#b300ff']\n",
    "l=koc.iloc[:,0]\n",
    "for i in range(7):\n",
    "    \n",
    "      rects1 = plt.bar(index + i*bar_width, koc.iloc[i,(1,4,7,10,13,16)], bar_width,\n",
    "                 alpha=opacity,\n",
    "                 color=c[i],\n",
    "                 yerr=koc.iloc[i,(2,5,8,11,14,17)],\n",
    "                 error_kw=error_config,\n",
    "                 label=l[i],\n",
    "                      )\n",
    "\n",
    "\n",
    "plt.xlabel('Group')\n",
    "plt.ylabel('Scores')\n",
    "plt.title('Scores by group and gender')\n",
    "plt.xticks(index + bar_width, ('2hr', '3hr', '4hr', '6hr', '10hr','24hr'))\n",
    "plt.legend(bbox_to_anchor=(1.05, 1), loc=2, borderaxespad=0.)"
   ]
  },
  {
   "cell_type": "code",
   "execution_count": 13,
   "metadata": {
    "collapsed": false
   },
   "outputs": [
    {
     "data": {
      "text/plain": [
       "<matplotlib.legend.Legend at 0x7fc87ab39e10>"
      ]
     },
     "execution_count": 13,
     "metadata": {},
     "output_type": "execute_result"
    },
    {
     "data": {
      "image/png": "[encoded data removed]",
      "text/plain": [
       "<matplotlib.figure.Figure at 0x7fc884083150>"
      ]
     },
     "metadata": {},
     "output_type": "display_data"
    }
   ],
   "source": [
    "l=wt.iloc[:,0]\n",
    "for i in range(7):\n",
    "    \n",
    "      rects1 = plt.bar(index + i*bar_width, wt.iloc[i,(1,4,7,10,13,16)], bar_width,\n",
    "                 alpha=opacity,\n",
    "                 color=c[i],\n",
    "                 yerr=wt.iloc[i,(2,5,8,11,14,17)],\n",
    "                 error_kw=error_config,\n",
    "                 label=l[i],\n",
    "                      )\n",
    "\n",
    "\n",
    "plt.xlabel('Group')\n",
    "plt.ylabel('Scores')\n",
    "plt.title('Scores by group and gender')\n",
    "plt.xticks(index + bar_width, ('2hr', '3hr', '4hr', '6hr', '10hr','24hr'))\n",
    "plt.legend(bbox_to_anchor=(1.05, 1), loc=2, borderaxespad=0.)"
   ]
  }
 ],
 "metadata": {
  "kernelspec": {
   "display_name": "Python 2",
   "language": "python",
   "name": "python2"
  },
  "language_info": {
   "codemirror_mode": {
    "name": "ipython",
    "version": 2
   },
   "file_extension": ".py",
   "mimetype": "text/x-python",
   "name": "python",
   "nbconvert_exporter": "python",
   "pygments_lexer": "ipython2",
   "version": "2.7.10"
  }
 },
 "nbformat": 4,
 "nbformat_minor": 0
}
